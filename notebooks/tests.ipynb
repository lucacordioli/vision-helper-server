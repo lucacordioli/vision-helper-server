{
 "cells": [
  {
   "cell_type": "markdown",
   "source": [
    "Initialize the embedding function and the ChromaDB client"
   ],
   "metadata": {
    "collapsed": false
   },
   "id": "752efcb57022d22d"
  },
  {
   "cell_type": "code",
   "execution_count": 1,
   "outputs": [
    {
     "name": "stderr",
     "output_type": "stream",
     "text": [
      "/Users/lucacordioli/Documents/Lavori/polimi/TESI/visionHelperSrv/.venv/lib/python3.9/site-packages/urllib3/__init__.py:35: NotOpenSSLWarning: urllib3 v2 only supports OpenSSL 1.1.1+, currently the 'ssl' module is compiled with 'LibreSSL 2.8.3'. See: https://github.com/urllib3/urllib3/issues/3020\n",
      "  warnings.warn(\n",
      "/Users/lucacordioli/Documents/Lavori/polimi/TESI/visionHelperSrv/.venv/lib/python3.9/site-packages/huggingface_hub/file_download.py:1132: FutureWarning: `resume_download` is deprecated and will be removed in version 1.0.0. Downloads always resume when possible. If you want to force a new download, use `force_download=True`.\n",
      "  warnings.warn(\n",
      "/Users/lucacordioli/Documents/Lavori/polimi/TESI/visionHelperSrv/.venv/lib/python3.9/site-packages/huggingface_hub/file_download.py:1132: FutureWarning: `resume_download` is deprecated and will be removed in version 1.0.0. Downloads always resume when possible. If you want to force a new download, use `force_download=True`.\n",
      "  warnings.warn(\n"
     ]
    }
   ],
   "source": [
    "from chromadb.utils import embedding_functions\n",
    "import chromadb\n",
    "\n",
    "huggingface_ef = embedding_functions.SentenceTransformerEmbeddingFunction(\n",
    "    model_name=\"sentence-transformers/all-MiniLM-L6-v2\"\n",
    ")\n",
    "\n",
    "chroma_client = chromadb.Client()\n",
    "# client = chromadb.PersistentClient(path=\"/path/to/save/to\")\n",
    "collection = chroma_client.create_collection(name=\"my_collection\", embedding_function=huggingface_ef)\n"
   ],
   "metadata": {
    "collapsed": false,
    "ExecuteTime": {
     "end_time": "2024-05-25T14:01:58.204721Z",
     "start_time": "2024-05-25T14:01:53.838781Z"
    }
   },
   "id": "34a6d8f7301311b3"
  },
  {
   "cell_type": "markdown",
   "source": [
    "Take data from a pdf file"
   ],
   "metadata": {
    "collapsed": false
   },
   "id": "b0f733ab449d73fb"
  },
  {
   "cell_type": "code",
   "execution_count": 2,
   "outputs": [],
   "source": [
    "import fitz\n",
    "doc = fitz.open(\"/Users/lucacordioli/Documents/Lavori/polimi/TESI/visionHelperSrv/data/test.pdf\")\n",
    "\n",
    "pdf_texts = \"\"\n",
    "\n",
    "for page in doc: # iterate the document pages\n",
    "    pdf_texts += page.get_text()\n",
    "    "
   ],
   "metadata": {
    "collapsed": false,
    "ExecuteTime": {
     "end_time": "2024-05-25T14:02:01.830223Z",
     "start_time": "2024-05-25T14:02:01.733177Z"
    }
   },
   "id": "f661cc5c848f7bf"
  },
  {
   "cell_type": "markdown",
   "source": [
    "Add data to chorma db"
   ],
   "metadata": {
    "collapsed": false
   },
   "id": "420a773f801c2a8e"
  },
  {
   "cell_type": "code",
   "execution_count": 3,
   "outputs": [],
   "source": [
    "from langchain.text_splitter import RecursiveCharacterTextSplitter\n",
    "\n",
    "text_splitter = RecursiveCharacterTextSplitter.from_tiktoken_encoder(chunk_size=600, chunk_overlap=100)\n",
    "\n",
    "for i, page in enumerate(doc):\n",
    "    page_text = page.get_text()\n",
    "    doc_splits = text_splitter.split_text(page_text)\n",
    "    collection.add(\n",
    "        documents=doc_splits,\n",
    "        metadatas=[{'page': i+1} for _ in doc_splits],\n",
    "        ids=[f\"id_{i}_{j}\" for j in range(len(doc_splits))]\n",
    "    )"
   ],
   "metadata": {
    "collapsed": false,
    "ExecuteTime": {
     "end_time": "2024-05-25T14:02:05.321857Z",
     "start_time": "2024-05-25T14:02:04.406891Z"
    }
   },
   "id": "b364196c40da3f72"
  },
  {
   "cell_type": "markdown",
   "source": [
    "Take data from web page"
   ],
   "metadata": {
    "collapsed": false
   },
   "id": "b441482fcb334ec6"
  },
  {
   "cell_type": "code",
   "execution_count": null,
   "outputs": [],
   "source": [
    "from langchain_community.document_loaders import WebBaseLoader\n",
    "urls = [\n",
    "    \"https://www.apple.com/newsroom/2024/05/apple-reports-second-quarter-results/\",\n",
    "]\n",
    "\n",
    "docs = [WebBaseLoader(url).load() for url in urls]\n",
    "docs_list = [item for sublist in docs for item in sublist]"
   ],
   "metadata": {
    "collapsed": false
   },
   "id": "9aa5e4872039773b"
  },
  {
   "cell_type": "markdown",
   "source": [
    "Add data to chorma db"
   ],
   "metadata": {
    "collapsed": false
   },
   "id": "669773412861ec5c"
  },
  {
   "cell_type": "code",
   "execution_count": null,
   "outputs": [],
   "source": [
    "doc_splits = text_splitter.split_documents(docs_list)\n",
    "\n",
    "collection.add(\n",
    "    documents=[doc.page_content for doc in doc_splits],\n",
    "    metadatas=[doc.metadata for doc in doc_splits],\n",
    "    ids=[f\"id_{doc}\" for doc in range(len(doc_splits))]\n",
    ")"
   ],
   "metadata": {
    "collapsed": false
   },
   "id": "8ae4067ed617bb7b"
  },
  {
   "cell_type": "markdown",
   "source": [
    "Query to ChromaDB"
   ],
   "metadata": {
    "collapsed": false
   },
   "id": "51dfa0d8f5540c60"
  },
  {
   "cell_type": "code",
   "execution_count": null,
   "outputs": [],
   "source": [
    "question = \"What is Luca educational path?\"\n",
    "system_message = \"\"\n",
    "\n",
    "results = collection.query(\n",
    "    query_texts=[question],\n",
    "    n_results=3,\n",
    "    include=[\"documents\"]\n",
    ")\n",
    "\n",
    "context = \"\"\n",
    "for doc in results[\"documents\"]:\n",
    "    context += \"\\n\\n\".join(doc)\n",
    "    \n",
    "print(context)"
   ],
   "metadata": {
    "collapsed": false
   },
   "id": "7ed1dd8b60b7cc41"
  },
  {
   "cell_type": "code",
   "execution_count": null,
   "outputs": [],
   "source": [
    "from langchain_community.chat_models import ChatOllama\n",
    "from langchain_core.prompts import PromptTemplate\n",
    "from langchain_core.output_parsers import StrOutputParser\n",
    "\n",
    "llm = ChatOllama(model=\"llama3:8b\", temperature=0, max_tokens=2048,\n",
    "                 stop=[\"<|start_header_id|>\", \"<|end_header_id|>\", \"<|eot_id|>\", \"<|reserved_special_token\"])\n",
    "\n",
    "prompt = PromptTemplate(\n",
    "    template=\"\"\"<|begin_of_text|>\n",
    "      <|start_header_id|>system<|end_header_id|>You are a question-answer task assistant. Use the following portion of the context to answer the question. If you do not know the answer, simply answer that you do not know the answer. Use a maximum of 3 sentences to answer concisely.<|eot_id|>\n",
    "      <|start_header_id|>user<|end_header_id|>\n",
    "      Question: {question}\n",
    "      Context: {context}\n",
    "      Answer: <|eot_id|>\n",
    "      <|start_header_id|>assistant<|end_header_id|>\"\"\",\n",
    "    input_variables=[\"system_message\", \"question\", \"context\"],\n",
    ")\n",
    "\n",
    "chain = prompt | llm | StrOutputParser()\n",
    "\n",
    "for chunk in chain.stream({\"question\": question, \"system_message\": system_message, \"context\": context}):\n",
    "    print(chunk, end=\"\", flush=True)"
   ],
   "metadata": {
    "collapsed": false
   },
   "id": "6cadb0bcc0620097"
  },
  {
   "cell_type": "markdown",
   "source": [],
   "metadata": {
    "collapsed": false
   },
   "id": "12079ab992181f2c"
  },
  {
   "cell_type": "markdown",
   "source": [
    "Load json file"
   ],
   "metadata": {
    "collapsed": false
   },
   "id": "edb55cb25da091c6"
  },
  {
   "cell_type": "code",
   "execution_count": 7,
   "outputs": [
    {
     "name": "stdout",
     "output_type": "stream",
     "text": [
      "ID: 13483, Name: Hand, Caption: Hand, GUID: 7b6d3c28-5650-49aa-9c6a-aeec1cf5524a, MediaType: 3D Object\n"
     ]
    }
   ],
   "source": [
    "import json\n",
    "\n",
    "index = 3\n",
    "\n",
    "with open('/Users/lucacordioli/Documents/Lavori/polimi/TESI/visionHelperSrv/data/data.json', 'r') as file:\n",
    "    data = json.load(file)\n",
    "    \n",
    "    obj = data['medias'][index]\n",
    "    \n",
    "    item_id = obj['id']\n",
    "    name = obj['name']\n",
    "    caption = obj['caption']\n",
    "    guid = obj['guid']\n",
    "    media_type = obj['mediaType']['value']\n",
    "\n",
    "    query_text = f\"ID: {item_id}, Name: {name}, Caption: {caption}, GUID: {guid}, MediaType: {media_type}\"\n",
    "    \n",
    "    print(query_text)\n"
   ],
   "metadata": {
    "collapsed": false,
    "ExecuteTime": {
     "end_time": "2024-05-25T14:03:13.523874Z",
     "start_time": "2024-05-25T14:03:13.515803Z"
    }
   },
   "id": "9c5c9bb86d1c6960"
  },
  {
   "cell_type": "markdown",
   "source": [
    "Query to ChromaDB"
   ],
   "metadata": {
    "collapsed": false
   },
   "id": "43c6ceaf451fa139"
  },
  {
   "cell_type": "code",
   "execution_count": 8,
   "outputs": [
    {
     "name": "stdout",
     "output_type": "stream",
     "text": [
      "Page: 2\n",
      "Document: The Finger component is designed to interact with other parts of the assembly, probably \n",
      "functioning as a lever or actuator. Its precise engineering allows for ﬁne movements, \n",
      "crucial in applications requiring dexterity and accuracy. The Finger is made from \n",
      "lightweight yet strong aluminum alloy, balancing strength and maneuverability. \n",
      " \n",
      "### 3. ForeArm \n",
      "- **ID**: 13482 \n",
      "- **Caption**: ForeArm \n",
      "- **File**: ForeArm.glb \n",
      "- **Size**: 2,215,632 bytes \n",
      "- **Media Type**: 3D Object \n",
      " \n",
      "#### Description: \n",
      "The ForeArm acts as a connector, linking the Finger to other parts of the assembly. Its \n",
      "elongated structure enables extended reach and enhanced ﬂexibility. The ForeArm is \n",
      "constructed from reinforced composite materials, ensuring it can withstand high stress \n",
      "and strain without compromising performance. \n",
      " \n",
      "### 4. Hand \n",
      "- **ID**: 13483 \n",
      "- **Caption**: Hand \n",
      "- **File**: Hand.glb \n",
      "- **Size**: 1,185,264 bytes \n",
      "- **Media Type**: 3D Object \n",
      " \n",
      "#### Description: \n",
      "The Hand component is designed for grasping or manipulating objects. It features \n",
      "multiple articulations, mimicking the movements of a human hand. The Hand is \n",
      "fabricated using advanced polymer blends, providing a combination of strength, \n",
      "ﬂexibility, and tactile feedback. \n",
      " \n",
      "### 5. Shoulder \n",
      "- **ID**: 13484 \n",
      "- **Caption**: Shoulder \n",
      "- **File**: Shoulder.glb \n",
      "- **Size**: 1,871,872 bytes \n",
      "- **Media Type**: 3D Object \n",
      " \n",
      "#### Description: \n",
      "The Shoulder serves as the main support structure for the upper part of the assembly. It \n",
      "provides a stable base for the ForeArm and Hand, allowing for a wide range of motion. \n",
      "The Shoulder is made from high-tensile carbon ﬁber, ensuring a lightweight yet \n",
      "incredibly strong framework. \n",
      " \n",
      "### 6. UpperArm \n",
      "- **ID**: 13485 \n",
      "- **Caption**: UpperArm\n"
     ]
    }
   ],
   "source": [
    "results = collection.query(\n",
    "    query_texts=[query_text],\n",
    "    n_results=3,\n",
    "    include=[\"documents\", \"metadatas\"]\n",
    ")\n",
    "\n",
    "print(\"Page: \" + str(results[\"metadatas\"][0][0][\"page\"]))\n",
    "print(\"Document: \" + results[\"documents\"][0][0])"
   ],
   "metadata": {
    "collapsed": false,
    "ExecuteTime": {
     "end_time": "2024-05-25T14:03:17.377583Z",
     "start_time": "2024-05-25T14:03:17.360420Z"
    }
   },
   "id": "dd8a37a8771d41b8"
  },
  {
   "cell_type": "code",
   "execution_count": null,
   "outputs": [],
   "source": [],
   "metadata": {
    "collapsed": false
   },
   "id": "e7ac93396b136562"
  }
 ],
 "metadata": {
  "kernelspec": {
   "display_name": "Python 3",
   "language": "python",
   "name": "python3"
  },
  "language_info": {
   "codemirror_mode": {
    "name": "ipython",
    "version": 2
   },
   "file_extension": ".py",
   "mimetype": "text/x-python",
   "name": "python",
   "nbconvert_exporter": "python",
   "pygments_lexer": "ipython2",
   "version": "2.7.6"
  }
 },
 "nbformat": 4,
 "nbformat_minor": 5
}
