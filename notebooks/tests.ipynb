{
 "cells": [
  {
   "cell_type": "markdown",
   "source": [
    "Initialize the embedding function and the ChromaDB client"
   ],
   "metadata": {
    "collapsed": false
   },
   "id": "752efcb57022d22d"
  },
  {
   "cell_type": "code",
   "execution_count": 2,
   "outputs": [
    {
     "ename": "UniqueConstraintError",
     "evalue": "Collection knowledge_collection already exists",
     "output_type": "error",
     "traceback": [
      "\u001B[0;31m---------------------------------------------------------------------------\u001B[0m",
      "\u001B[0;31mUniqueConstraintError\u001B[0m                     Traceback (most recent call last)",
      "Cell \u001B[0;32mIn[2], line 12\u001B[0m\n\u001B[1;32m      8\u001B[0m chroma_client \u001B[38;5;241m=\u001B[39m chromadb\u001B[38;5;241m.\u001B[39mClient()\n\u001B[1;32m      9\u001B[0m \u001B[38;5;66;03m# client = chromadb.PersistentClient(path=\"/path/to/save/to\")\u001B[39;00m\n\u001B[1;32m     10\u001B[0m \u001B[38;5;66;03m# chroma_client.delete_collection(name=\"knowledge_collection\")\u001B[39;00m\n\u001B[0;32m---> 12\u001B[0m knowledge_collection \u001B[38;5;241m=\u001B[39m \u001B[43mchroma_client\u001B[49m\u001B[38;5;241;43m.\u001B[39;49m\u001B[43mcreate_collection\u001B[49m\u001B[43m(\u001B[49m\u001B[43mname\u001B[49m\u001B[38;5;241;43m=\u001B[39;49m\u001B[38;5;124;43m\"\u001B[39;49m\u001B[38;5;124;43mknowledge_collection\u001B[39;49m\u001B[38;5;124;43m\"\u001B[39;49m\u001B[43m,\u001B[49m\u001B[43m \u001B[49m\u001B[43membedding_function\u001B[49m\u001B[38;5;241;43m=\u001B[39;49m\u001B[43mhuggingface_ef\u001B[49m\u001B[43m)\u001B[49m\n",
      "File \u001B[0;32m~/Documents/Lavori/polimi/TESI/visionHelperSrv/.venv/lib/python3.9/site-packages/chromadb/api/client.py:198\u001B[0m, in \u001B[0;36mClient.create_collection\u001B[0;34m(self, name, metadata, embedding_function, data_loader, get_or_create)\u001B[0m\n\u001B[1;32m    187\u001B[0m \u001B[38;5;129m@override\u001B[39m\n\u001B[1;32m    188\u001B[0m \u001B[38;5;28;01mdef\u001B[39;00m \u001B[38;5;21mcreate_collection\u001B[39m(\n\u001B[1;32m    189\u001B[0m     \u001B[38;5;28mself\u001B[39m,\n\u001B[0;32m   (...)\u001B[0m\n\u001B[1;32m    196\u001B[0m     get_or_create: \u001B[38;5;28mbool\u001B[39m \u001B[38;5;241m=\u001B[39m \u001B[38;5;28;01mFalse\u001B[39;00m,\n\u001B[1;32m    197\u001B[0m ) \u001B[38;5;241m-\u001B[39m\u001B[38;5;241m>\u001B[39m Collection:\n\u001B[0;32m--> 198\u001B[0m     \u001B[38;5;28;01mreturn\u001B[39;00m \u001B[38;5;28;43mself\u001B[39;49m\u001B[38;5;241;43m.\u001B[39;49m\u001B[43m_server\u001B[49m\u001B[38;5;241;43m.\u001B[39;49m\u001B[43mcreate_collection\u001B[49m\u001B[43m(\u001B[49m\n\u001B[1;32m    199\u001B[0m \u001B[43m        \u001B[49m\u001B[43mname\u001B[49m\u001B[38;5;241;43m=\u001B[39;49m\u001B[43mname\u001B[49m\u001B[43m,\u001B[49m\n\u001B[1;32m    200\u001B[0m \u001B[43m        \u001B[49m\u001B[43mmetadata\u001B[49m\u001B[38;5;241;43m=\u001B[39;49m\u001B[43mmetadata\u001B[49m\u001B[43m,\u001B[49m\n\u001B[1;32m    201\u001B[0m \u001B[43m        \u001B[49m\u001B[43membedding_function\u001B[49m\u001B[38;5;241;43m=\u001B[39;49m\u001B[43membedding_function\u001B[49m\u001B[43m,\u001B[49m\n\u001B[1;32m    202\u001B[0m \u001B[43m        \u001B[49m\u001B[43mdata_loader\u001B[49m\u001B[38;5;241;43m=\u001B[39;49m\u001B[43mdata_loader\u001B[49m\u001B[43m,\u001B[49m\n\u001B[1;32m    203\u001B[0m \u001B[43m        \u001B[49m\u001B[43mtenant\u001B[49m\u001B[38;5;241;43m=\u001B[39;49m\u001B[38;5;28;43mself\u001B[39;49m\u001B[38;5;241;43m.\u001B[39;49m\u001B[43mtenant\u001B[49m\u001B[43m,\u001B[49m\n\u001B[1;32m    204\u001B[0m \u001B[43m        \u001B[49m\u001B[43mdatabase\u001B[49m\u001B[38;5;241;43m=\u001B[39;49m\u001B[38;5;28;43mself\u001B[39;49m\u001B[38;5;241;43m.\u001B[39;49m\u001B[43mdatabase\u001B[49m\u001B[43m,\u001B[49m\n\u001B[1;32m    205\u001B[0m \u001B[43m        \u001B[49m\u001B[43mget_or_create\u001B[49m\u001B[38;5;241;43m=\u001B[39;49m\u001B[43mget_or_create\u001B[49m\u001B[43m,\u001B[49m\n\u001B[1;32m    206\u001B[0m \u001B[43m    \u001B[49m\u001B[43m)\u001B[49m\n",
      "File \u001B[0;32m~/Documents/Lavori/polimi/TESI/visionHelperSrv/.venv/lib/python3.9/site-packages/chromadb/telemetry/opentelemetry/__init__.py:143\u001B[0m, in \u001B[0;36mtrace_method.<locals>.decorator.<locals>.wrapper\u001B[0;34m(*args, **kwargs)\u001B[0m\n\u001B[1;32m    141\u001B[0m \u001B[38;5;28;01mglobal\u001B[39;00m tracer, granularity\n\u001B[1;32m    142\u001B[0m \u001B[38;5;28;01mif\u001B[39;00m trace_granularity \u001B[38;5;241m<\u001B[39m granularity:\n\u001B[0;32m--> 143\u001B[0m     \u001B[38;5;28;01mreturn\u001B[39;00m \u001B[43mf\u001B[49m\u001B[43m(\u001B[49m\u001B[38;5;241;43m*\u001B[39;49m\u001B[43margs\u001B[49m\u001B[43m,\u001B[49m\u001B[43m \u001B[49m\u001B[38;5;241;43m*\u001B[39;49m\u001B[38;5;241;43m*\u001B[39;49m\u001B[43mkwargs\u001B[49m\u001B[43m)\u001B[49m\n\u001B[1;32m    144\u001B[0m \u001B[38;5;28;01mif\u001B[39;00m \u001B[38;5;129;01mnot\u001B[39;00m tracer:\n\u001B[1;32m    145\u001B[0m     \u001B[38;5;28;01mreturn\u001B[39;00m f(\u001B[38;5;241m*\u001B[39margs, \u001B[38;5;241m*\u001B[39m\u001B[38;5;241m*\u001B[39mkwargs)\n",
      "File \u001B[0;32m~/Documents/Lavori/polimi/TESI/visionHelperSrv/.venv/lib/python3.9/site-packages/chromadb/api/segment.py:173\u001B[0m, in \u001B[0;36mSegmentAPI.create_collection\u001B[0;34m(self, name, metadata, embedding_function, data_loader, get_or_create, tenant, database)\u001B[0m\n\u001B[1;32m    169\u001B[0m check_index_name(name)\n\u001B[1;32m    171\u001B[0m \u001B[38;5;28mid\u001B[39m \u001B[38;5;241m=\u001B[39m uuid4()\n\u001B[0;32m--> 173\u001B[0m coll, created \u001B[38;5;241m=\u001B[39m \u001B[38;5;28;43mself\u001B[39;49m\u001B[38;5;241;43m.\u001B[39;49m\u001B[43m_sysdb\u001B[49m\u001B[38;5;241;43m.\u001B[39;49m\u001B[43mcreate_collection\u001B[49m\u001B[43m(\u001B[49m\n\u001B[1;32m    174\u001B[0m \u001B[43m    \u001B[49m\u001B[38;5;28;43mid\u001B[39;49m\u001B[38;5;241;43m=\u001B[39;49m\u001B[38;5;28;43mid\u001B[39;49m\u001B[43m,\u001B[49m\n\u001B[1;32m    175\u001B[0m \u001B[43m    \u001B[49m\u001B[43mname\u001B[49m\u001B[38;5;241;43m=\u001B[39;49m\u001B[43mname\u001B[49m\u001B[43m,\u001B[49m\n\u001B[1;32m    176\u001B[0m \u001B[43m    \u001B[49m\u001B[43mmetadata\u001B[49m\u001B[38;5;241;43m=\u001B[39;49m\u001B[43mmetadata\u001B[49m\u001B[43m,\u001B[49m\n\u001B[1;32m    177\u001B[0m \u001B[43m    \u001B[49m\u001B[43mdimension\u001B[49m\u001B[38;5;241;43m=\u001B[39;49m\u001B[38;5;28;43;01mNone\u001B[39;49;00m\u001B[43m,\u001B[49m\n\u001B[1;32m    178\u001B[0m \u001B[43m    \u001B[49m\u001B[43mget_or_create\u001B[49m\u001B[38;5;241;43m=\u001B[39;49m\u001B[43mget_or_create\u001B[49m\u001B[43m,\u001B[49m\n\u001B[1;32m    179\u001B[0m \u001B[43m    \u001B[49m\u001B[43mtenant\u001B[49m\u001B[38;5;241;43m=\u001B[39;49m\u001B[43mtenant\u001B[49m\u001B[43m,\u001B[49m\n\u001B[1;32m    180\u001B[0m \u001B[43m    \u001B[49m\u001B[43mdatabase\u001B[49m\u001B[38;5;241;43m=\u001B[39;49m\u001B[43mdatabase\u001B[49m\u001B[43m,\u001B[49m\n\u001B[1;32m    181\u001B[0m \u001B[43m\u001B[49m\u001B[43m)\u001B[49m\n\u001B[1;32m    183\u001B[0m \u001B[38;5;66;03m# TODO: wrap sysdb call in try except and log error if it fails\u001B[39;00m\n\u001B[1;32m    184\u001B[0m \u001B[38;5;28;01mif\u001B[39;00m created:\n",
      "File \u001B[0;32m~/Documents/Lavori/polimi/TESI/visionHelperSrv/.venv/lib/python3.9/site-packages/chromadb/telemetry/opentelemetry/__init__.py:143\u001B[0m, in \u001B[0;36mtrace_method.<locals>.decorator.<locals>.wrapper\u001B[0;34m(*args, **kwargs)\u001B[0m\n\u001B[1;32m    141\u001B[0m \u001B[38;5;28;01mglobal\u001B[39;00m tracer, granularity\n\u001B[1;32m    142\u001B[0m \u001B[38;5;28;01mif\u001B[39;00m trace_granularity \u001B[38;5;241m<\u001B[39m granularity:\n\u001B[0;32m--> 143\u001B[0m     \u001B[38;5;28;01mreturn\u001B[39;00m \u001B[43mf\u001B[49m\u001B[43m(\u001B[49m\u001B[38;5;241;43m*\u001B[39;49m\u001B[43margs\u001B[49m\u001B[43m,\u001B[49m\u001B[43m \u001B[49m\u001B[38;5;241;43m*\u001B[39;49m\u001B[38;5;241;43m*\u001B[39;49m\u001B[43mkwargs\u001B[49m\u001B[43m)\u001B[49m\n\u001B[1;32m    144\u001B[0m \u001B[38;5;28;01mif\u001B[39;00m \u001B[38;5;129;01mnot\u001B[39;00m tracer:\n\u001B[1;32m    145\u001B[0m     \u001B[38;5;28;01mreturn\u001B[39;00m f(\u001B[38;5;241m*\u001B[39margs, \u001B[38;5;241m*\u001B[39m\u001B[38;5;241m*\u001B[39mkwargs)\n",
      "File \u001B[0;32m~/Documents/Lavori/polimi/TESI/visionHelperSrv/.venv/lib/python3.9/site-packages/chromadb/db/mixins/sysdb.py:220\u001B[0m, in \u001B[0;36mSqlSysDB.create_collection\u001B[0;34m(self, id, name, metadata, dimension, get_or_create, tenant, database)\u001B[0m\n\u001B[1;32m    213\u001B[0m         \u001B[38;5;28;01mreturn\u001B[39;00m (\n\u001B[1;32m    214\u001B[0m             \u001B[38;5;28mself\u001B[39m\u001B[38;5;241m.\u001B[39mget_collections(\n\u001B[1;32m    215\u001B[0m                 \u001B[38;5;28mid\u001B[39m\u001B[38;5;241m=\u001B[39mcollection[\u001B[38;5;124m\"\u001B[39m\u001B[38;5;124mid\u001B[39m\u001B[38;5;124m\"\u001B[39m], tenant\u001B[38;5;241m=\u001B[39mtenant, database\u001B[38;5;241m=\u001B[39mdatabase\n\u001B[1;32m    216\u001B[0m             )[\u001B[38;5;241m0\u001B[39m],\n\u001B[1;32m    217\u001B[0m             \u001B[38;5;28;01mFalse\u001B[39;00m,\n\u001B[1;32m    218\u001B[0m         )\n\u001B[1;32m    219\u001B[0m     \u001B[38;5;28;01melse\u001B[39;00m:\n\u001B[0;32m--> 220\u001B[0m         \u001B[38;5;28;01mraise\u001B[39;00m UniqueConstraintError(\u001B[38;5;124mf\u001B[39m\u001B[38;5;124m\"\u001B[39m\u001B[38;5;124mCollection \u001B[39m\u001B[38;5;132;01m{\u001B[39;00mname\u001B[38;5;132;01m}\u001B[39;00m\u001B[38;5;124m already exists\u001B[39m\u001B[38;5;124m\"\u001B[39m)\n\u001B[1;32m    222\u001B[0m collection \u001B[38;5;241m=\u001B[39m Collection(\n\u001B[1;32m    223\u001B[0m     \u001B[38;5;28mid\u001B[39m\u001B[38;5;241m=\u001B[39m\u001B[38;5;28mid\u001B[39m,\n\u001B[1;32m    224\u001B[0m     name\u001B[38;5;241m=\u001B[39mname,\n\u001B[0;32m   (...)\u001B[0m\n\u001B[1;32m    228\u001B[0m     database\u001B[38;5;241m=\u001B[39mdatabase,\n\u001B[1;32m    229\u001B[0m )\n\u001B[1;32m    231\u001B[0m \u001B[38;5;28;01mwith\u001B[39;00m \u001B[38;5;28mself\u001B[39m\u001B[38;5;241m.\u001B[39mtx() \u001B[38;5;28;01mas\u001B[39;00m cur:\n",
      "\u001B[0;31mUniqueConstraintError\u001B[0m: Collection knowledge_collection already exists"
     ]
    }
   ],
   "source": [
    "from chromadb.utils import embedding_functions\n",
    "import chromadb\n",
    "\n",
    "huggingface_ef = embedding_functions.SentenceTransformerEmbeddingFunction(\n",
    "    model_name=\"sentence-transformers/all-MiniLM-L6-v2\"\n",
    ")\n",
    "\n",
    "chroma_client = chromadb.Client()\n",
    "# client = chromadb.PersistentClient(path=\"/path/to/save/to\")\n",
    "# chroma_client.delete_collection(name=\"knowledge_collection\")\n",
    "\n",
    "knowledge_collection = chroma_client.create_collection(name=\"knowledge_collection\", embedding_function=huggingface_ef)"
   ],
   "metadata": {
    "collapsed": false,
    "ExecuteTime": {
     "end_time": "2024-06-12T13:54:43.107365Z",
     "start_time": "2024-06-12T13:54:42.744706Z"
    }
   },
   "id": "34a6d8f7301311b3"
  },
  {
   "cell_type": "markdown",
   "source": [],
   "metadata": {
    "collapsed": false
   },
   "id": "bb04b0c5763988b4"
  },
  {
   "cell_type": "markdown",
   "source": [
    "results = collection.query(\n",
    "    query_texts=[\"This is a question or text\"],\n",
    "    n_results=5,\n",
    "    where={\"source_type\": \"guideline\"}\n",
    ")\n",
    "\n",
    " await collection.add({\n",
    "    documents: [\"This is a document\", \"This is another document\"], // we embed for you, or bring your own\n",
    "    metadatas: [{ source: \"my_source\" }, { source: \"my_source\" }], // filter on arbitrary metadata!\n",
    "    ids: [\"id1\", \"id2\"] // must be unique for each doc \n",
    "  });\n",
    "  \n",
    "\n",
    "\n",
    "# Assume you have a Chroma instance `chroma_instance` and the source document `source_doc`\n",
    "ids_to_delete = []\n",
    "\n",
    "for doc in chroma_instance:\n",
    "    if doc.metadata.get('source') == source_doc:\n",
    "        ids_to_delete.append(doc.id)\n",
    "\n",
    "chroma_instance.delete(ids=ids_to_delete)"
   ],
   "metadata": {
    "collapsed": false
   },
   "id": "357180c88355f56e"
  },
  {
   "cell_type": "markdown",
   "source": [
    "Take data from a pdf file"
   ],
   "metadata": {
    "collapsed": false
   },
   "id": "b0f733ab449d73fb"
  },
  {
   "cell_type": "code",
   "execution_count": 3,
   "outputs": [],
   "source": [
    "import fitz\n",
    "doc = fitz.open(\"/Users/lucacordioli/Documents/Lavori/polimi/TESI/visionHelperSrv/data/test.pdf\")\n",
    "\n",
    "pdf_texts = \"\"\n",
    "\n",
    "for page in doc: # iterate the document pages\n",
    "    pdf_texts += page.get_text()\n",
    "    "
   ],
   "metadata": {
    "collapsed": false,
    "ExecuteTime": {
     "end_time": "2024-06-12T13:54:56.185821Z",
     "start_time": "2024-06-12T13:54:55.640408Z"
    }
   },
   "id": "f661cc5c848f7bf"
  },
  {
   "cell_type": "markdown",
   "source": [
    "Add data to chorma db"
   ],
   "metadata": {
    "collapsed": false
   },
   "id": "420a773f801c2a8e"
  },
  {
   "cell_type": "code",
   "execution_count": 4,
   "outputs": [],
   "source": [
    "from langchain.text_splitter import RecursiveCharacterTextSplitter\n",
    "\n",
    "text_splitter = RecursiveCharacterTextSplitter.from_tiktoken_encoder(chunk_size=300, chunk_overlap=50)\n",
    "\n",
    "for i, page in enumerate(doc):\n",
    "    page_text = page.get_text()\n",
    "    doc_splits = text_splitter.split_text(page_text)\n",
    "    knowledge_collection.add(\n",
    "        documents=doc_splits,\n",
    "        metadatas=[{'page': i+1} for _ in doc_splits],\n",
    "        ids=[f\"id_{i}_{j}\" for j in range(len(doc_splits))]\n",
    "    )"
   ],
   "metadata": {
    "collapsed": false,
    "ExecuteTime": {
     "end_time": "2024-06-12T13:55:01.366509Z",
     "start_time": "2024-06-12T13:55:00.268454Z"
    }
   },
   "id": "b364196c40da3f72"
  },
  {
   "cell_type": "markdown",
   "source": [
    "Take data from web page"
   ],
   "metadata": {
    "collapsed": false
   },
   "id": "b441482fcb334ec6"
  },
  {
   "cell_type": "code",
   "execution_count": null,
   "outputs": [],
   "source": [
    "from langchain_community.document_loaders import WebBaseLoader\n",
    "urls = [\n",
    "    \"https://www.apple.com/newsroom/2024/05/apple-reports-second-quarter-results/\",\n",
    "]\n",
    "\n",
    "docs = [WebBaseLoader(url).load() for url in urls]\n",
    "docs_list = [item for sublist in docs for item in sublist]"
   ],
   "metadata": {
    "collapsed": false
   },
   "id": "9aa5e4872039773b"
  },
  {
   "cell_type": "markdown",
   "source": [
    "Add data to chorma db"
   ],
   "metadata": {
    "collapsed": false
   },
   "id": "669773412861ec5c"
  },
  {
   "cell_type": "code",
   "execution_count": 5,
   "outputs": [
    {
     "ename": "NameError",
     "evalue": "name 'docs_list' is not defined",
     "output_type": "error",
     "traceback": [
      "\u001B[0;31m---------------------------------------------------------------------------\u001B[0m",
      "\u001B[0;31mNameError\u001B[0m                                 Traceback (most recent call last)",
      "Cell \u001B[0;32mIn[5], line 1\u001B[0m\n\u001B[0;32m----> 1\u001B[0m doc_splits \u001B[38;5;241m=\u001B[39m text_splitter\u001B[38;5;241m.\u001B[39msplit_documents(\u001B[43mdocs_list\u001B[49m)\n\u001B[1;32m      3\u001B[0m knowledge_collection\u001B[38;5;241m.\u001B[39madd(\n\u001B[1;32m      4\u001B[0m     documents\u001B[38;5;241m=\u001B[39m[doc\u001B[38;5;241m.\u001B[39mpage_content \u001B[38;5;28;01mfor\u001B[39;00m doc \u001B[38;5;129;01min\u001B[39;00m doc_splits],\n\u001B[1;32m      5\u001B[0m     metadatas\u001B[38;5;241m=\u001B[39m[doc\u001B[38;5;241m.\u001B[39mmetadata \u001B[38;5;28;01mfor\u001B[39;00m doc \u001B[38;5;129;01min\u001B[39;00m doc_splits],\n\u001B[1;32m      6\u001B[0m     ids\u001B[38;5;241m=\u001B[39m[\u001B[38;5;124mf\u001B[39m\u001B[38;5;124m\"\u001B[39m\u001B[38;5;124mid_\u001B[39m\u001B[38;5;132;01m{\u001B[39;00mdoc\u001B[38;5;132;01m}\u001B[39;00m\u001B[38;5;124m\"\u001B[39m \u001B[38;5;28;01mfor\u001B[39;00m doc \u001B[38;5;129;01min\u001B[39;00m \u001B[38;5;28mrange\u001B[39m(\u001B[38;5;28mlen\u001B[39m(doc_splits))]\n\u001B[1;32m      7\u001B[0m )\n",
      "\u001B[0;31mNameError\u001B[0m: name 'docs_list' is not defined"
     ]
    }
   ],
   "source": [
    "doc_splits = text_splitter.split_documents(docs_list)\n",
    "\n",
    "knowledge_collection.add(\n",
    "    documents=[doc.page_content for doc in doc_splits],\n",
    "    metadatas=[doc.metadata for doc in doc_splits],\n",
    "    ids=[f\"id_{doc}\" for doc in range(len(doc_splits))]\n",
    ")"
   ],
   "metadata": {
    "collapsed": false,
    "ExecuteTime": {
     "end_time": "2024-06-12T13:55:05.057191Z",
     "start_time": "2024-06-12T13:55:05.037524Z"
    }
   },
   "id": "8ae4067ed617bb7b"
  },
  {
   "cell_type": "markdown",
   "source": [
    "# From question to answer"
   ],
   "metadata": {
    "collapsed": false
   },
   "id": "b5e7bed44bffcb5a"
  },
  {
   "cell_type": "markdown",
   "source": [
    "Query to ChromaDB"
   ],
   "metadata": {
    "collapsed": false
   },
   "id": "51dfa0d8f5540c60"
  },
  {
   "cell_type": "code",
   "execution_count": null,
   "outputs": [],
   "source": [
    "question = \"What is Luca educational path?\"\n",
    "system_message = \"\"\n",
    "\n",
    "results = knowledge_collection.query(\n",
    "    query_texts=[question],\n",
    "    n_results=3,\n",
    "    include=[\"documents\"]\n",
    ")\n",
    "\n",
    "context = \"\"\n",
    "for doc in results[\"documents\"]:\n",
    "    context += \"\\n\\n\".join(doc)\n",
    "    \n",
    "print(context)"
   ],
   "metadata": {
    "collapsed": false
   },
   "id": "7ed1dd8b60b7cc41"
  },
  {
   "cell_type": "code",
   "execution_count": null,
   "outputs": [],
   "source": [
    "from langchain_community.chat_models import ChatOllama\n",
    "from langchain_core.prompts import PromptTemplate\n",
    "from langchain_core.output_parsers import StrOutputParser\n",
    "\n",
    "llm = ChatOllama(model=\"llama3:8b\", temperature=0, max_tokens=2048,\n",
    "                 stop=[\"<|start_header_id|>\", \"<|end_header_id|>\", \"<|eot_id|>\", \"<|reserved_special_token\"])\n",
    "\n",
    "prompt = PromptTemplate(\n",
    "    template=\"\"\"<|begin_of_text|>\n",
    "      <|start_header_id|>system<|end_header_id|>You are a question-answer task assistant. Use the following portion of the context to answer the question. If you do not know the answer, simply answer that you do not know the answer. Use a maximum of 3 sentences to answer concisely.<|eot_id|>\n",
    "      <|start_header_id|>user<|end_header_id|>\n",
    "      Question: {question}\n",
    "      Context: {context}\n",
    "      Answer: <|eot_id|>\n",
    "      <|start_header_id|>assistant<|end_header_id|>\"\"\",\n",
    "    input_variables=[\"system_message\", \"question\", \"context\"],\n",
    ")\n",
    "\n",
    "chain = prompt | llm | StrOutputParser()\n",
    "\n",
    "for chunk in chain.stream({\"question\": question, \"system_message\": system_message, \"context\": context}):\n",
    "    print(chunk, end=\"\", flush=True)"
   ],
   "metadata": {
    "collapsed": false
   },
   "id": "6cadb0bcc0620097"
  },
  {
   "cell_type": "markdown",
   "source": [],
   "metadata": {
    "collapsed": false
   },
   "id": "12079ab992181f2c"
  },
  {
   "cell_type": "markdown",
   "source": [
    "# From piece id to pdf page"
   ],
   "metadata": {
    "collapsed": false
   },
   "id": "5dca1353901f654d"
  },
  {
   "cell_type": "markdown",
   "source": [
    "Load json file"
   ],
   "metadata": {
    "collapsed": false
   },
   "id": "edb55cb25da091c6"
  },
  {
   "cell_type": "code",
   "execution_count": 6,
   "outputs": [
    {
     "name": "stdout",
     "output_type": "stream",
     "text": [
      "ID: 13483, Name: Hand, Caption: Hand, GUID: 7b6d3c28-5650-49aa-9c6a-aeec1cf5524a, MediaType: 3D Object\n"
     ]
    }
   ],
   "source": [
    "import json\n",
    "\n",
    "index = 3\n",
    "\n",
    "with open('/Users/lucacordioli/Documents/Lavori/polimi/TESI/visionHelperSrv/data/data.json', 'r') as file:\n",
    "    data = json.load(file)\n",
    "    \n",
    "    obj = data['medias'][index]\n",
    "    \n",
    "    item_id = obj['id']\n",
    "    name = obj['name']\n",
    "    caption = obj['caption']\n",
    "    guid = obj['guid']\n",
    "    media_type = obj['mediaType']['value']\n",
    "    # tags\n",
    "\n",
    "    query_text = f\"ID: {item_id}, Name: {name}, Caption: {caption}, GUID: {guid}, MediaType: {media_type}\"\n",
    "    \n",
    "    print(query_text)\n"
   ],
   "metadata": {
    "collapsed": false,
    "ExecuteTime": {
     "end_time": "2024-06-12T13:55:56.969973Z",
     "start_time": "2024-06-12T13:55:56.953140Z"
    }
   },
   "id": "9c5c9bb86d1c6960"
  },
  {
   "cell_type": "markdown",
   "source": [
    "Query to ChromaDB"
   ],
   "metadata": {
    "collapsed": false
   },
   "id": "43c6ceaf451fa139"
  },
  {
   "cell_type": "code",
   "execution_count": 7,
   "outputs": [
    {
     "name": "stdout",
     "output_type": "stream",
     "text": [
      "Page: 2\n",
      "Document: - **Size**: 1,185,264 bytes \n",
      "- **Media Type**: 3D Object \n",
      " \n",
      "#### Description: \n",
      "The Hand component is designed for grasping or manipulating objects. It features \n",
      "multiple articulations, mimicking the movements of a human hand. The Hand is \n",
      "fabricated using advanced polymer blends, providing a combination of strength, \n",
      "ﬂexibility, and tactile feedback. \n",
      " \n",
      "### 5. Shoulder \n",
      "- **ID**: 13484 \n",
      "- **Caption**: Shoulder \n",
      "- **File**: Shoulder.glb \n",
      "- **Size**: 1,871,872 bytes \n",
      "- **Media Type**: 3D Object \n",
      " \n",
      "#### Description: \n",
      "The Shoulder serves as the main support structure for the upper part of the assembly. It \n",
      "provides a stable base for the ForeArm and Hand, allowing for a wide range of motion. \n",
      "The Shoulder is made from high-tensile carbon ﬁber, ensuring a lightweight yet \n",
      "incredibly strong framework. \n",
      " \n",
      "### 6. UpperArm \n",
      "- **ID**: 13485 \n",
      "- **Caption**: UpperArm\n"
     ]
    }
   ],
   "source": [
    "results = knowledge_collection.query(\n",
    "    query_texts=[query_text],\n",
    "    n_results=3,\n",
    "    include=[\"documents\", \"metadatas\"]\n",
    ")\n",
    "\n",
    "print(\"Page: \" + str(results[\"metadatas\"][0][0][\"page\"]))\n",
    "print(\"Document: \" + results[\"documents\"][0][0])"
   ],
   "metadata": {
    "collapsed": false,
    "ExecuteTime": {
     "end_time": "2024-06-12T13:56:58.678141Z",
     "start_time": "2024-06-12T13:56:58.654237Z"
    }
   },
   "id": "dd8a37a8771d41b8"
  },
  {
   "cell_type": "markdown",
   "source": [
    "# From request to piece id"
   ],
   "metadata": {
    "collapsed": false
   },
   "id": "69b0c3e2fc006c4b"
  },
  {
   "cell_type": "markdown",
   "source": [
    "Embed json in chroma db"
   ],
   "metadata": {
    "collapsed": false
   },
   "id": "baea320164aafcf3"
  },
  {
   "cell_type": "code",
   "execution_count": null,
   "outputs": [],
   "source": [
    "pieces_collection = chroma_client.create_collection(name=\"pieces\", embedding_function=huggingface_ef)\n",
    "for obj in data['medias']:\n",
    "    pieces_collection.add(\n",
    "        documents=[str(obj)],\n",
    "        metadatas=[{\"source\": \"pezzo_meccanico.json\"}],\n",
    "        ids=[f\"id_{obj['id']}\"]\n",
    "    )"
   ],
   "metadata": {
    "collapsed": false
   },
   "id": "ad7932964fe43953"
  },
  {
   "cell_type": "markdown",
   "source": [
    "Query knowledge collection in chromadb"
   ],
   "metadata": {
    "collapsed": false
   },
   "id": "89d4f7225450baf7"
  },
  {
   "cell_type": "code",
   "execution_count": null,
   "outputs": [],
   "source": [
    "question = \"Where is the ForeArm?\"\n",
    "system_message = \"\"\n",
    "\n",
    "results = knowledge_collection.query(\n",
    "    query_texts=[question],\n",
    "    n_results=3,\n",
    "    include=[\"documents\"]\n",
    ")\n",
    "\n",
    "context = \"\"\n",
    "for doc in results[\"documents\"]:\n",
    "    context += \"\\n\\n\".join(doc)\n",
    "    \n",
    "    \n",
    "prompt_embedding = question +  \"\\n\\n\" + context\n"
   ],
   "metadata": {
    "collapsed": false
   },
   "id": "ddf56fa56cbe5c17"
  },
  {
   "cell_type": "code",
   "execution_count": null,
   "outputs": [],
   "source": [
    "results = pieces_collection.query(\n",
    "    query_texts=[prompt_embedding],\n",
    "    n_results=3,\n",
    "    include=[\"documents\", \"metadatas\"]\n",
    ")\n",
    "print(results)"
   ],
   "metadata": {
    "collapsed": false
   },
   "id": "5f2c5af302336e13"
  },
  {
   "cell_type": "code",
   "execution_count": null,
   "outputs": [],
   "source": [],
   "metadata": {
    "collapsed": false
   },
   "id": "40e4215ef3708989"
  },
  {
   "cell_type": "code",
   "execution_count": null,
   "outputs": [],
   "source": [],
   "metadata": {
    "collapsed": false
   },
   "id": "8727c9f715374677"
  }
 ],
 "metadata": {
  "kernelspec": {
   "display_name": "Python 3",
   "language": "python",
   "name": "python3"
  },
  "language_info": {
   "codemirror_mode": {
    "name": "ipython",
    "version": 2
   },
   "file_extension": ".py",
   "mimetype": "text/x-python",
   "name": "python",
   "nbconvert_exporter": "python",
   "pygments_lexer": "ipython2",
   "version": "2.7.6"
  }
 },
 "nbformat": 4,
 "nbformat_minor": 5
}
